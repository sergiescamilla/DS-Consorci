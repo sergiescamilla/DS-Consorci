{
 "cells": [
  {
   "cell_type": "markdown",
   "metadata": {},
   "source": [
    "# Exercici: variables i funcions"
   ]
  },
  {
   "cell_type": "markdown",
   "metadata": {},
   "source": [
    "L'ús de print() imprimirà qualsevol cosa\n",
    "entre els paràntesis al teu termianl.\n",
    "Canvia la frase que s'imprimeix a continuació,\n",
    "deseu i, a continuació, executeu l'script per veure els vostres canvis.\n",
    "Després de confirmar que funciona, comenta-ho."
   ]
  },
  {
   "cell_type": "code",
   "execution_count": 1,
   "metadata": {
    "scrolled": false
   },
   "outputs": [
    {
     "name": "stdout",
     "output_type": "stream",
     "text": [
      "Ei, ja hem començat\n"
     ]
    }
   ],
   "source": [
    "print('Ei, ja hem començat')"
   ]
  },
  {
   "cell_type": "markdown",
   "metadata": {},
   "source": [
    "## Variables"
   ]
  },
  {
   "cell_type": "markdown",
   "metadata": {},
   "source": [
    "\n",
    "#### 1)\n",
    "\n",
    "Utilitzant la línia print() de sota,\n",
    "a continuació, imprimiu el número 10, utilitzant els operadors\n",
    "(+) i (*).\n",
    "Multiplica i suma qualsevol combinació de nombres\n",
    "junts per obtenir el número 10.\n"
   ]
  },
  {
   "cell_type": "code",
   "execution_count": 3,
   "metadata": {
    "scrolled": true
   },
   "outputs": [
    {
     "name": "stdout",
     "output_type": "stream",
     "text": [
      "10\n",
      "10\n"
     ]
    }
   ],
   "source": [
    "a = 5*2\n",
    "b = 7+3\n",
    "print(a)\n",
    "print(b)"
   ]
  },
  {
   "cell_type": "markdown",
   "metadata": {},
   "source": [
    "#### 2)\n",
    "print s'utilitza sovint per com debugger.\n",
    "De fet, podeu afegir múltiples\n",
    "arguments dins del print (que són\n",
    "separats per una coma). Afegiu-ho tot\n",
    "a continuació per imprimir:\n",
    "\n",
    "\n",
    "3 + 4, \"hauria de ser igual a 7\"\n"
   ]
  },
  {
   "cell_type": "code",
   "execution_count": 4,
   "metadata": {},
   "outputs": [
    {
     "name": "stdout",
     "output_type": "stream",
     "text": [
      "7 hauria de ser igual a 7\n"
     ]
    }
   ],
   "source": [
    "print(3 + 4, \"hauria de ser igual a 7\")"
   ]
  },
  {
   "cell_type": "markdown",
   "metadata": {},
   "source": [
    "#### 3)\n",
    "\n",
    "Afegiu dues strings juntes per\n",
    "imprimir el vostre nom i cognom!"
   ]
  },
  {
   "cell_type": "code",
   "execution_count": 5,
   "metadata": {},
   "outputs": [
    {
     "name": "stdout",
     "output_type": "stream",
     "text": [
      "Sergi Escamilla\n"
     ]
    }
   ],
   "source": [
    "print(\"Sergi\",\"Escamilla\")"
   ]
  },
  {
   "cell_type": "markdown",
   "metadata": {},
   "source": [
    "#### 4)\n",
    "Using modulo to get the remainder of\n",
    "a number divided by 2 will tell you whether a\n",
    "number is even or odd. Try it below!\n",
    "\n"
   ]
  },
  {
   "cell_type": "code",
   "execution_count": 16,
   "metadata": {},
   "outputs": [
    {
     "name": "stdout",
     "output_type": "stream",
     "text": [
      "even\n"
     ]
    }
   ],
   "source": [
    "a = (6 % 2)\n",
    "if a == 0:\n",
    "    print(\"even\")\n",
    "else:\n",
    "    print(\"odd\")"
   ]
  },
  {
   "cell_type": "markdown",
   "metadata": {},
   "source": [
    "\n",
    "#### 5)\n",
    "Canvieu la ubicació de la Mia reassignant la variable ubicacio_actual\n",
    "amb una nova string! Per fer-ho, tindreu\n",
    "que afegir una nova línia de codi (no n'elimineu cap linia\n",
    "de codi escrit). Nota: també hauràs de deixar de comentar\n",
    "la impressió per imprimir la ubicació."
   ]
  },
  {
   "cell_type": "code",
   "execution_count": 17,
   "metadata": {},
   "outputs": [
    {
     "name": "stdout",
     "output_type": "stream",
     "text": [
      "cafeteria\n"
     ]
    }
   ],
   "source": [
    "nom = 'Mia'\n",
    "ubicacio_actual = 'school'\n",
    "ubicacio_actual = 'cafeteria'\n",
    "print(ubicacio_actual_actual)"
   ]
  },
  {
   "cell_type": "markdown",
   "metadata": {},
   "source": [
    "\n",
    "#### 6)\n",
    "Creeu variables perquè el missatge s'imprimeixi\n",
    "a la pantalla!\n"
   ]
  },
  {
   "cell_type": "code",
   "execution_count": 20,
   "metadata": {},
   "outputs": [
    {
     "name": "stdout",
     "output_type": "stream",
     "text": [
      "Jordi va anar al Mallorca a menjar ensaimada\n"
     ]
    }
   ],
   "source": [
    "persona = 'Jordi'\n",
    "place = 'Mallorca'\n",
    "food = 'ensaimada'\n",
    "print(persona, 'va anar al', place, 'a menjar', food)"
   ]
  },
  {
   "cell_type": "markdown",
   "metadata": {},
   "source": [
    "\n",
    "#### 7)\n",
    "Ara, reassigneu totes les variables anteriors de manera que\n",
    "s'imprimeix un missatge nou a la pantalla!\n"
   ]
  },
  {
   "cell_type": "code",
   "execution_count": 21,
   "metadata": {},
   "outputs": [
    {
     "name": "stdout",
     "output_type": "stream",
     "text": [
      "Lidia va anar al Grecia a menjar yogurt\n"
     ]
    }
   ],
   "source": [
    "persona = 'Lidia'\n",
    "place = 'Grecia'\n",
    "food = 'yogurt'\n",
    "print(persona, 'va anar al', place, 'a menjar', food)"
   ]
  },
  {
   "cell_type": "markdown",
   "metadata": {},
   "source": [
    "#### 8)\n",
    "Hi ha dues maneres d'augmentar\n",
    "nombre emmagatzemat a la variable 'compte'.\n",
    "Quina és la resposta per executar les 4 línies següents?\n",
    "Pista: cerca què fa += si no està clar!"
   ]
  },
  {
   "cell_type": "code",
   "execution_count": 23,
   "metadata": {},
   "outputs": [
    {
     "name": "stdout",
     "output_type": "stream",
     "text": [
      "4\n"
     ]
    }
   ],
   "source": [
    "count = 0\n",
    "count = count + 1\n",
    "count += 1\n",
    "count += count\n",
    "print(count)"
   ]
  },
  {
   "cell_type": "markdown",
   "metadata": {},
   "source": [
    "\n",
    "#### 9)\n",
    "Intercanvi de temps! Al següent codi, volem intercanviar\n",
    "els valors s'emmagatzemen tant a 'a' com a 'b'.\n",
    "Aquest codi escrit a continuació no funciona. Per dur a terme\n",
    "aquesta tasca, haureu de crear-ne una variable addicional\n",
    "(podeu anomenar-la 'temp') per emmagatzemar-la\n",
    "\"a\" o \"b\" mentre intercanvieu. Dibuixa-ho si\n",
    "no estàs segur!\n"
   ]
  },
  {
   "cell_type": "code",
   "execution_count": 33,
   "metadata": {},
   "outputs": [],
   "source": [
    "a = 1\n",
    "b = 2"
   ]
  },
  {
   "cell_type": "code",
   "execution_count": 32,
   "metadata": {},
   "outputs": [
    {
     "name": "stdout",
     "output_type": "stream",
     "text": [
      "ABANS > es: 1 - i b es:  2\n"
     ]
    }
   ],
   "source": [
    "print('ABANS > es:', a, '- i b es: ', b)\n"
   ]
  },
  {
   "cell_type": "code",
   "execution_count": 35,
   "metadata": {},
   "outputs": [],
   "source": [
    "a = 2\n",
    "b = 1\n"
   ]
  },
  {
   "cell_type": "code",
   "execution_count": 36,
   "metadata": {},
   "outputs": [
    {
     "name": "stdout",
     "output_type": "stream",
     "text": [
      "DESPRES > a: 2 ha de ser 2 - i b: 1 ha de ser 1\n"
     ]
    }
   ],
   "source": [
    "print('DESPRES > a:', a, 'ha de ser 2 - i b:', b, 'ha de ser 1')"
   ]
  },
  {
   "cell_type": "markdown",
   "metadata": {},
   "source": [
    "#### 10)\n",
    "Què avaluarà això?\n",
    "Intenta fer que s'avaluï com a cert.\n",
    "Intenta fer-ho de diverses maneres!\n",
    "(suggeriment: proveu d'\"emetre\" el número\n",
    "a un string, o viceversa!)"
   ]
  },
  {
   "cell_type": "code",
   "execution_count": 38,
   "metadata": {},
   "outputs": [
    {
     "name": "stdout",
     "output_type": "stream",
     "text": [
      "True\n",
      "True\n"
     ]
    }
   ],
   "source": [
    "print(3 == int('3'))\n",
    "print(str(3) == ('3'))"
   ]
  },
  {
   "cell_type": "markdown",
   "metadata": {},
   "source": [
    "## Functions"
   ]
  },
  {
   "cell_type": "markdown",
   "metadata": {},
   "source": [
    "\n",
    "\n",
    "#### 1)\n",
    "Creeu una funció anomenada\n",
    "\"triple\" que agafa un\n",
    "paràmetre x i retorns\n",
    "el valor de x multiplicat\n",
    "per tres.\n"
   ]
  },
  {
   "cell_type": "code",
   "execution_count": 41,
   "metadata": {},
   "outputs": [
    {
     "data": {
      "text/plain": [
       "9"
      ]
     },
     "execution_count": 41,
     "metadata": {},
     "output_type": "execute_result"
    }
   ],
   "source": [
    "def triple(x):\n",
    "    b = x*3\n",
    "    return b\n",
    "\n",
    "triple(3)"
   ]
  },
  {
   "cell_type": "markdown",
   "metadata": {},
   "source": [
    "\n",
    "\n",
    "\n",
    "#### 2)\n",
    "Creeu una funció anomenada \"resta\" això\n",
    "agafa dos paràmetres i retorna el resultat de\n",
    "el segon valor restat del primer.\n"
   ]
  },
  {
   "cell_type": "code",
   "execution_count": 43,
   "metadata": {},
   "outputs": [
    {
     "data": {
      "text/plain": [
       "4"
      ]
     },
     "execution_count": 43,
     "metadata": {},
     "output_type": "execute_result"
    }
   ],
   "source": [
    "def resta(a,b):\n",
    "    c = b-a\n",
    "    return c\n",
    "\n",
    "resta(5,9)"
   ]
  },
  {
   "cell_type": "markdown",
   "metadata": {},
   "source": [
    "\n",
    "\n",
    "\n",
    "\n",
    "#### 3)\n",
    "Creeu una funció anomenada \"resta_segura\" que\n",
    "agafa dos paràmetres i retorna el resultat de\n",
    "el segon valor restat del primer.\n",
    "Si no es poden restar els valors, retorna None.\n"
   ]
  },
  {
   "cell_type": "code",
   "execution_count": 53,
   "metadata": {},
   "outputs": [],
   "source": [
    "def resta(a,b):\n",
    "    try:\n",
    "        c = b-a\n",
    "        return c\n",
    "    except:\n",
    "        return None\n",
    "\n",
    "resta(5,'4')"
   ]
  },
  {
   "cell_type": "markdown",
   "metadata": {},
   "source": [
    "#### 4)\n",
    "Create a function named \"greet_person\". It should\n",
    "accept a string as an argument and return that\n",
    "string as part of a longer sentence that says hello:\n",
    "i.e. \"Sophia\" --> \"Hello, Sophia!\"\n",
    "If the function is called with an argument that is\n",
    "not a string, it should return \"Please provide a name.\"\n",
    "i.e. 5 --> \"Please provide a name.\"\n",
    "\n",
    "Creeu una funció anomenada \"saluda_persona\". Hauria\n",
    "accepta una cadena com a argument i retorna-la\n",
    "cadena com a part d'una frase més llarga que diu hola:\n",
    "és a dir, \"Sophia\" --> \"Hola, Sophia!\"\n",
    "Si la funció es crida amb un argument que és\n",
    "no és una cadena, hauria de retornar \"Si us plau, proporcioneu un nom\".\n",
    "és a dir, 5 --> \"Si us plau, proporcioneu un nom\"."
   ]
  },
  {
   "cell_type": "code",
   "execution_count": 58,
   "metadata": {},
   "outputs": [
    {
     "name": "stdout",
     "output_type": "stream",
     "text": [
      "Please provide a name\n"
     ]
    }
   ],
   "source": [
    "def greet_person(string):\n",
    "    try:\n",
    "        return \"Hello, \"+string\n",
    "    except:\n",
    "        print(\"Please provide a name\")\n",
    "\n",
    "greet_person(5)"
   ]
  },
  {
   "cell_type": "code",
   "execution_count": null,
   "metadata": {},
   "outputs": [],
   "source": []
  }
 ],
 "metadata": {
  "kernelspec": {
   "display_name": "Python 3 (ipykernel)",
   "language": "python",
   "name": "python3"
  },
  "language_info": {
   "codemirror_mode": {
    "name": "ipython",
    "version": 3
   },
   "file_extension": ".py",
   "mimetype": "text/x-python",
   "name": "python",
   "nbconvert_exporter": "python",
   "pygments_lexer": "ipython3",
   "version": "3.9.7"
  }
 },
 "nbformat": 4,
 "nbformat_minor": 4
}
